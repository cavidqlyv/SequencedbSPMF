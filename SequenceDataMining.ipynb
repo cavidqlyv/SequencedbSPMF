{
 "metadata": {
  "language_info": {
   "codemirror_mode": {
    "name": "ipython",
    "version": 3
   },
   "file_extension": ".py",
   "mimetype": "text/x-python",
   "name": "python",
   "nbconvert_exporter": "python",
   "pygments_lexer": "ipython3",
   "version": "3.9.2-final"
  },
  "orig_nbformat": 2,
  "kernelspec": {
   "name": "python392jvsc74a57bd063fd5069d213b44bf678585dea6b12cceca9941eaf7f819626cde1f2670de90d",
   "display_name": "Python 3.9.2 64-bit"
  }
 },
 "nbformat": 4,
 "nbformat_minor": 2,
 "cells": [
  {
   "cell_type": "code",
   "execution_count": 1,
   "metadata": {},
   "outputs": [],
   "source": [
    "from spmf import Spmf"
   ]
  },
  {
   "cell_type": "code",
   "execution_count": 2,
   "metadata": {},
   "outputs": [
    {
     "output_type": "stream",
     "name": "stdout",
     "text": [
      ">/C:/spmf/spmf.jar\n=============  Algorithm - STATISTICS =============\n Total time ~ 179061 ms\n Frequent sequences count : 18\n Max memory (mb):257.20323944091797\n===================================================\n\n\n                                              pattern    sup\n0                                                 [1]  10000\n1                                              [1, 1]  10000\n2                                           [1, 1, 1]  10000\n3                                        [1, 1, 1, 1]  10000\n4                                     [1, 1, 1, 1, 1]  10000\n5                                  [1, 1, 1, 1, 1, 1]  10000\n6                               [1, 1, 1, 1, 1, 1, 1]   9999\n7                            [1, 1, 1, 1, 1, 1, 1, 1]   9999\n8                         [1, 1, 1, 1, 1, 1, 1, 1, 1]   9998\n9                      [1, 1, 1, 1, 1, 1, 1, 1, 1, 1]   9986\n10                  [1, 1, 1, 1, 1, 1, 1, 1, 1, 1, 1]   9943\n11               [1, 1, 1, 1, 1, 1, 1, 1, 1, 1, 1, 1]   9834\n12            [1, 1, 1, 1, 1, 1, 1, 1, 1, 1, 1, 1, 1]   9565\n13         [1, 1, 1, 1, 1, 1, 1, 1, 1, 1, 1, 1, 1, 1]   9059\n14      [1, 1, 1, 1, 1, 1, 1, 1, 1, 1, 1, 1, 1, 1, 1]   8225\n15   [1, 1, 1, 1, 1, 1, 1, 1, 1, 1, 1, 1, 1, 1, 1, 1]   7093\n16  [1, 1, 1, 1, 1, 1, 1, 1, 1, 1, 1, 1, 1, 1, 1, ...   5634\n17  [1, 1, 1, 1, 1, 1, 1, 1, 1, 1, 1, 1, 1, 1, 1, ...   4187\n"
     ]
    }
   ],
   "source": [
    "spmf = Spmf(\"GSP\", input_filename=\"data/SequenceDB.txt\",\n",
    "            output_filename=\"data/GSPFrequentSequence.txt\", arguments=[0.4], spmf_bin_location_dir=\"C:/spmf\")\n",
    "spmf.run()\n",
    "print(spmf.to_pandas_dataframe(pickle=True))"
   ]
  },
  {
   "cell_type": "code",
   "execution_count": 2,
   "metadata": {},
   "outputs": [
    {
     "output_type": "stream",
     "name": "stdout",
     "text": [
      ">/C:/spmf/spmf.jar\n=============  Algorithm - STATISTICS =============\n Total time ~ 118 ms\n Frequent sequences count : 17\n Join count : 17\n Max memory (mb):71.81613159179688\nContent at file data/SPADEFrequentSequence.txt\n===================================================\n\n\n                                              pattern    sup\n0                                                 [1]  10000\n1                                              [1, 1]  10000\n2                                           [1, 1, 1]  10000\n3                                        [1, 1, 1, 1]  10000\n4                                     [1, 1, 1, 1, 1]  10000\n5                                  [1, 1, 1, 1, 1, 1]  10000\n6                               [1, 1, 1, 1, 1, 1, 1]   9999\n7                            [1, 1, 1, 1, 1, 1, 1, 1]   9999\n8                         [1, 1, 1, 1, 1, 1, 1, 1, 1]   9998\n9                      [1, 1, 1, 1, 1, 1, 1, 1, 1, 1]   9984\n10                  [1, 1, 1, 1, 1, 1, 1, 1, 1, 1, 1]   9935\n11               [1, 1, 1, 1, 1, 1, 1, 1, 1, 1, 1, 1]   9823\n12            [1, 1, 1, 1, 1, 1, 1, 1, 1, 1, 1, 1, 1]   9521\n13         [1, 1, 1, 1, 1, 1, 1, 1, 1, 1, 1, 1, 1, 1]   8983\n14      [1, 1, 1, 1, 1, 1, 1, 1, 1, 1, 1, 1, 1, 1, 1]   8110\n15   [1, 1, 1, 1, 1, 1, 1, 1, 1, 1, 1, 1, 1, 1, 1, 1]   6925\n16  [1, 1, 1, 1, 1, 1, 1, 1, 1, 1, 1, 1, 1, 1, 1, ...   5452\n"
     ]
    }
   ],
   "source": [
    "spmf = Spmf(\"SPADE\", input_filename=\"data/SequenceDB.txt\", \n",
    "            output_filename=\"data/SPADEFrequentSequence.txt\", arguments=[0.4], spmf_bin_location_dir=\"C:/spmf\")\n",
    "spmf.run()\n",
    "print(spmf.to_pandas_dataframe(pickle=True))"
   ]
  },
  {
   "cell_type": "code",
   "execution_count": 3,
   "metadata": {},
   "outputs": [
    {
     "output_type": "stream",
     "name": "stdout",
     "text": [
      ">/C:/spmf/spmf.jar\n=============  PREFIXSPAN 0.99-2016 - STATISTICS =============\n Total time ~ 638 ms\n Frequent sequences count : 18\n Max memory (mb) : 27.671035766601562\n minsup = 4000 sequences.\n Pattern count : 18\n===================================================\n\n\n                                              pattern    sup\n0                                                 [1]  10000\n1                                              [1, 1]  10000\n2                                           [1, 1, 1]  10000\n3                                        [1, 1, 1, 1]  10000\n4                                     [1, 1, 1, 1, 1]  10000\n5                                  [1, 1, 1, 1, 1, 1]  10000\n6                               [1, 1, 1, 1, 1, 1, 1]   9999\n7                            [1, 1, 1, 1, 1, 1, 1, 1]   9999\n8                         [1, 1, 1, 1, 1, 1, 1, 1, 1]   9998\n9                      [1, 1, 1, 1, 1, 1, 1, 1, 1, 1]   9986\n10                  [1, 1, 1, 1, 1, 1, 1, 1, 1, 1, 1]   9943\n11               [1, 1, 1, 1, 1, 1, 1, 1, 1, 1, 1, 1]   9834\n12            [1, 1, 1, 1, 1, 1, 1, 1, 1, 1, 1, 1, 1]   9565\n13         [1, 1, 1, 1, 1, 1, 1, 1, 1, 1, 1, 1, 1, 1]   9059\n14      [1, 1, 1, 1, 1, 1, 1, 1, 1, 1, 1, 1, 1, 1, 1]   8225\n15   [1, 1, 1, 1, 1, 1, 1, 1, 1, 1, 1, 1, 1, 1, 1, 1]   7093\n16  [1, 1, 1, 1, 1, 1, 1, 1, 1, 1, 1, 1, 1, 1, 1, ...   5634\n17  [1, 1, 1, 1, 1, 1, 1, 1, 1, 1, 1, 1, 1, 1, 1, ...   4187\n"
     ]
    }
   ],
   "source": [
    "# database without timeStamp\n",
    "spmf = Spmf(\"PrefixSpan\", input_filename=\"data/NOTimeStampSequenceDB.txt\", \n",
    "            output_filename=\"data/PrefixSpanFrequentSequence.txt\", arguments=[0.4], spmf_bin_location_dir=\"C:/spmf\")\n",
    "spmf.run()\n",
    "print(spmf.to_pandas_dataframe(pickle=True))"
   ]
  },
  {
   "cell_type": "code",
   "execution_count": 4,
   "metadata": {},
   "outputs": [
    {
     "output_type": "stream",
     "name": "stdout",
     "text": [
      ">/C:/spmf/spmf.jar\n=============  Algorithm - STATISTICS =============\n Total time ~ 4301 ms\n Frequent sequences count : 12\n Max memory (mb):241.95765686035156\nContent at file data/ColSpanFrequentSequence.txt\n\n===================================================\n\n\n                                              pattern    sup\n0                                  [1, 1, 1, 1, 1, 1]  10000\n1                            [1, 1, 1, 1, 1, 1, 1, 1]   9999\n2                         [1, 1, 1, 1, 1, 1, 1, 1, 1]   9998\n3                      [1, 1, 1, 1, 1, 1, 1, 1, 1, 1]   9986\n4                   [1, 1, 1, 1, 1, 1, 1, 1, 1, 1, 1]   9943\n5                [1, 1, 1, 1, 1, 1, 1, 1, 1, 1, 1, 1]   9834\n6             [1, 1, 1, 1, 1, 1, 1, 1, 1, 1, 1, 1, 1]   9565\n7          [1, 1, 1, 1, 1, 1, 1, 1, 1, 1, 1, 1, 1, 1]   9059\n8       [1, 1, 1, 1, 1, 1, 1, 1, 1, 1, 1, 1, 1, 1, 1]   8225\n9    [1, 1, 1, 1, 1, 1, 1, 1, 1, 1, 1, 1, 1, 1, 1, 1]   7093\n10  [1, 1, 1, 1, 1, 1, 1, 1, 1, 1, 1, 1, 1, 1, 1, ...   5634\n11  [1, 1, 1, 1, 1, 1, 1, 1, 1, 1, 1, 1, 1, 1, 1, ...   4187\n"
     ]
    }
   ],
   "source": [
    "spmf = Spmf(\"CloSpan\", input_filename=\"data/SequenceDB.txt\",\n",
    "            output_filename=\"data/ColSpanFrequentSequence.txt\", arguments=[0.4], spmf_bin_location_dir=\"C:/spmf\")\n",
    "spmf.run()\n",
    "print(spmf.to_pandas_dataframe(pickle=True))"
   ]
  },
  {
   "cell_type": "code",
   "execution_count": null,
   "metadata": {},
   "outputs": [],
   "source": []
  }
 ]
}