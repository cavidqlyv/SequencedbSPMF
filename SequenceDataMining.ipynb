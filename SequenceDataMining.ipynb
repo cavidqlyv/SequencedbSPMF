{
 "cells": [
  {
   "cell_type": "code",
   "execution_count": 1,
   "metadata": {},
   "outputs": [],
   "source": [
    "from spmf import Spmf"
   ]
  },
  {
   "cell_type": "code",
   "execution_count": 7,
   "metadata": {},
   "outputs": [
    {
     "name": "stdout",
     "output_type": "stream",
     "text": [
      ">/home/javid/Desktop/github/SequencedbSPMF/spmf.jar\n",
      "=============  Algorithm - STATISTICS =============\n",
      " Total time ~ 66952 ms\n",
      " Frequent sequences count : 18\n",
      " Max memory (mb):579.9761505126953\n",
      "===================================================\n",
      "\n",
      "\n",
      "                                              pattern    sup\n",
      "0                                                 [1]  10000\n",
      "1                                              [1, 1]  10000\n",
      "2                                           [1, 1, 1]  10000\n",
      "3                                        [1, 1, 1, 1]  10000\n",
      "4                                     [1, 1, 1, 1, 1]  10000\n",
      "5                                  [1, 1, 1, 1, 1, 1]  10000\n",
      "6                               [1, 1, 1, 1, 1, 1, 1]   9999\n",
      "7                            [1, 1, 1, 1, 1, 1, 1, 1]   9999\n",
      "8                         [1, 1, 1, 1, 1, 1, 1, 1, 1]   9998\n",
      "9                      [1, 1, 1, 1, 1, 1, 1, 1, 1, 1]   9986\n",
      "10                  [1, 1, 1, 1, 1, 1, 1, 1, 1, 1, 1]   9943\n",
      "11               [1, 1, 1, 1, 1, 1, 1, 1, 1, 1, 1, 1]   9834\n",
      "12            [1, 1, 1, 1, 1, 1, 1, 1, 1, 1, 1, 1, 1]   9565\n",
      "13         [1, 1, 1, 1, 1, 1, 1, 1, 1, 1, 1, 1, 1, 1]   9059\n",
      "14      [1, 1, 1, 1, 1, 1, 1, 1, 1, 1, 1, 1, 1, 1, 1]   8225\n",
      "15   [1, 1, 1, 1, 1, 1, 1, 1, 1, 1, 1, 1, 1, 1, 1, 1]   7093\n",
      "16  [1, 1, 1, 1, 1, 1, 1, 1, 1, 1, 1, 1, 1, 1, 1, ...   5634\n",
      "17  [1, 1, 1, 1, 1, 1, 1, 1, 1, 1, 1, 1, 1, 1, 1, ...   4187\n"
     ]
    }
   ],
   "source": [
    "spmf = Spmf(\"GSP\", input_filename=\"data/SequenceDB.txt\",\n",
    "            output_filename=\"data/GSPFrequentSequence.txt\",  arguments=[0.4], spmf_bin_location_dir=\"./\")\n",
    "spmf.run()\n",
    "print(spmf.to_pandas_dataframe(pickle=True))"
   ]
  },
  {
   "cell_type": "code",
   "execution_count": 8,
   "metadata": {},
   "outputs": [
    {
     "name": "stdout",
     "output_type": "stream",
     "text": [
      ">/home/javid/Desktop/github/SequencedbSPMF/spmf.jar\n",
      "=============  Algorithm - STATISTICS =============\n",
      " Total time ~ 79 ms\n",
      " Frequent sequences count : 17\n",
      " Join count : 17\n",
      " Max memory (mb):74.83447265625\n",
      "Content at file data/SPADEFrequentSequence.txt\n",
      "===================================================\n",
      "\n",
      "\n",
      "                                              pattern    sup\n",
      "0                                                 [1]  10000\n",
      "1                                              [1, 1]  10000\n",
      "2                                           [1, 1, 1]  10000\n",
      "3                                        [1, 1, 1, 1]  10000\n",
      "4                                     [1, 1, 1, 1, 1]  10000\n",
      "5                                  [1, 1, 1, 1, 1, 1]  10000\n",
      "6                               [1, 1, 1, 1, 1, 1, 1]   9999\n",
      "7                            [1, 1, 1, 1, 1, 1, 1, 1]   9999\n",
      "8                         [1, 1, 1, 1, 1, 1, 1, 1, 1]   9998\n",
      "9                      [1, 1, 1, 1, 1, 1, 1, 1, 1, 1]   9984\n",
      "10                  [1, 1, 1, 1, 1, 1, 1, 1, 1, 1, 1]   9935\n",
      "11               [1, 1, 1, 1, 1, 1, 1, 1, 1, 1, 1, 1]   9823\n",
      "12            [1, 1, 1, 1, 1, 1, 1, 1, 1, 1, 1, 1, 1]   9521\n",
      "13         [1, 1, 1, 1, 1, 1, 1, 1, 1, 1, 1, 1, 1, 1]   8983\n",
      "14      [1, 1, 1, 1, 1, 1, 1, 1, 1, 1, 1, 1, 1, 1, 1]   8110\n",
      "15   [1, 1, 1, 1, 1, 1, 1, 1, 1, 1, 1, 1, 1, 1, 1, 1]   6925\n",
      "16  [1, 1, 1, 1, 1, 1, 1, 1, 1, 1, 1, 1, 1, 1, 1, ...   5452\n"
     ]
    }
   ],
   "source": [
    "spmf = Spmf(\"SPADE\", input_filename=\"data/SequenceDB.txt\", \n",
    "            output_filename=\"data/SPADEFrequentSequence.txt\", arguments=[0.4], spmf_bin_location_dir=\"./\")\n",
    "spmf.run()\n",
    "print(spmf.to_pandas_dataframe(pickle=True))"
   ]
  },
  {
   "cell_type": "code",
   "execution_count": 9,
   "metadata": {},
   "outputs": [
    {
     "name": "stdout",
     "output_type": "stream",
     "text": [
      ">/home/javid/Desktop/github/SequencedbSPMF/spmf.jar\n",
      "=============  PREFIXSPAN 0.99-2016 - STATISTICS =============\n",
      " Total time ~ 220 ms\n",
      " Frequent sequences count : 18\n",
      " Max memory (mb) : 32.18583679199219\n",
      " minsup = 4000 sequences.\n",
      " Pattern count : 18\n",
      "===================================================\n",
      "\n",
      "\n",
      "                                              pattern    sup\n",
      "0                                                 [1]  10000\n",
      "1                                              [1, 1]  10000\n",
      "2                                           [1, 1, 1]  10000\n",
      "3                                        [1, 1, 1, 1]  10000\n",
      "4                                     [1, 1, 1, 1, 1]  10000\n",
      "5                                  [1, 1, 1, 1, 1, 1]  10000\n",
      "6                               [1, 1, 1, 1, 1, 1, 1]   9999\n",
      "7                            [1, 1, 1, 1, 1, 1, 1, 1]   9999\n",
      "8                         [1, 1, 1, 1, 1, 1, 1, 1, 1]   9998\n",
      "9                      [1, 1, 1, 1, 1, 1, 1, 1, 1, 1]   9986\n",
      "10                  [1, 1, 1, 1, 1, 1, 1, 1, 1, 1, 1]   9943\n",
      "11               [1, 1, 1, 1, 1, 1, 1, 1, 1, 1, 1, 1]   9834\n",
      "12            [1, 1, 1, 1, 1, 1, 1, 1, 1, 1, 1, 1, 1]   9565\n",
      "13         [1, 1, 1, 1, 1, 1, 1, 1, 1, 1, 1, 1, 1, 1]   9059\n",
      "14      [1, 1, 1, 1, 1, 1, 1, 1, 1, 1, 1, 1, 1, 1, 1]   8225\n",
      "15   [1, 1, 1, 1, 1, 1, 1, 1, 1, 1, 1, 1, 1, 1, 1, 1]   7093\n",
      "16  [1, 1, 1, 1, 1, 1, 1, 1, 1, 1, 1, 1, 1, 1, 1, ...   5634\n",
      "17  [1, 1, 1, 1, 1, 1, 1, 1, 1, 1, 1, 1, 1, 1, 1, ...   4187\n"
     ]
    }
   ],
   "source": [
    "# database without timeStamp\n",
    "spmf = Spmf(\"PrefixSpan\", input_filename=\"data/NOTimeStampSequenceDB.txt\", \n",
    "            output_filename=\"data/PrefixSpanFrequentSequence.txt\", arguments=[0.4], spmf_bin_location_dir=\"./\")\n",
    "spmf.run()\n",
    "print(spmf.to_pandas_dataframe(pickle=True))"
   ]
  },
  {
   "cell_type": "code",
   "execution_count": 10,
   "metadata": {},
   "outputs": [
    {
     "name": "stdout",
     "output_type": "stream",
     "text": [
      ">/home/javid/Desktop/github/SequencedbSPMF/spmf.jar\n",
      "=============  Algorithm - STATISTICS =============\n",
      " Total time ~ 1837 ms\n",
      " Frequent sequences count : 12\n",
      " Max memory (mb):195.201171875\n",
      "Content at file data/ColSpanFrequentSequence.txt\n",
      "\n",
      "===================================================\n",
      "\n",
      "\n",
      "                                              pattern    sup\n",
      "0                                  [1, 1, 1, 1, 1, 1]  10000\n",
      "1                            [1, 1, 1, 1, 1, 1, 1, 1]   9999\n",
      "2                         [1, 1, 1, 1, 1, 1, 1, 1, 1]   9998\n",
      "3                      [1, 1, 1, 1, 1, 1, 1, 1, 1, 1]   9986\n",
      "4                   [1, 1, 1, 1, 1, 1, 1, 1, 1, 1, 1]   9943\n",
      "5                [1, 1, 1, 1, 1, 1, 1, 1, 1, 1, 1, 1]   9834\n",
      "6             [1, 1, 1, 1, 1, 1, 1, 1, 1, 1, 1, 1, 1]   9565\n",
      "7          [1, 1, 1, 1, 1, 1, 1, 1, 1, 1, 1, 1, 1, 1]   9059\n",
      "8       [1, 1, 1, 1, 1, 1, 1, 1, 1, 1, 1, 1, 1, 1, 1]   8225\n",
      "9    [1, 1, 1, 1, 1, 1, 1, 1, 1, 1, 1, 1, 1, 1, 1, 1]   7093\n",
      "10  [1, 1, 1, 1, 1, 1, 1, 1, 1, 1, 1, 1, 1, 1, 1, ...   5634\n",
      "11  [1, 1, 1, 1, 1, 1, 1, 1, 1, 1, 1, 1, 1, 1, 1, ...   4187\n"
     ]
    },
    {
     "name": "stderr",
     "output_type": "stream",
     "text": [
      "Before removing NonClosed patterns there are 18 patterns\n"
     ]
    }
   ],
   "source": [
    "spmf = Spmf(\"CloSpan\", input_filename=\"data/SequenceDB.txt\",\n",
    "            output_filename=\"data/ColSpanFrequentSequence.txt\", arguments=[0.4], spmf_bin_location_dir=\"./\")\n",
    "spmf.run()\n",
    "print(spmf.to_pandas_dataframe(pickle=True))"
   ]
  },
  {
   "cell_type": "code",
   "execution_count": null,
   "metadata": {},
   "outputs": [],
   "source": []
  }
 ],
 "metadata": {
  "kernelspec": {
   "display_name": "Python 3.9.12 ('ocr')",
   "language": "python",
   "name": "python3"
  },
  "language_info": {
   "codemirror_mode": {
    "name": "ipython",
    "version": 3
   },
   "file_extension": ".py",
   "mimetype": "text/x-python",
   "name": "python",
   "nbconvert_exporter": "python",
   "pygments_lexer": "ipython3",
   "version": "3.9.12"
  },
  "orig_nbformat": 2,
  "vscode": {
   "interpreter": {
    "hash": "1b7ac38cf8c2ac4a1b2403c9667107702e347b0047858c789ecdc0a45e6f5e8d"
   }
  }
 },
 "nbformat": 4,
 "nbformat_minor": 2
}
