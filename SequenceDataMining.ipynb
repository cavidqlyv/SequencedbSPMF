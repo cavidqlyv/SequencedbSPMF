{
 "metadata": {
  "language_info": {
   "codemirror_mode": {
    "name": "ipython",
    "version": 3
   },
   "file_extension": ".py",
   "mimetype": "text/x-python",
   "name": "python",
   "nbconvert_exporter": "python",
   "pygments_lexer": "ipython3",
   "version": "3.9.2-final"
  },
  "orig_nbformat": 2,
  "kernelspec": {
   "name": "python392jvsc74a57bd063fd5069d213b44bf678585dea6b12cceca9941eaf7f819626cde1f2670de90d",
   "display_name": "Python 3.9.2 64-bit"
  }
 },
 "nbformat": 4,
 "nbformat_minor": 2,
 "cells": [
  {
   "cell_type": "code",
   "execution_count": 2,
   "metadata": {},
   "outputs": [],
   "source": [
    "from spmf import Spmf"
   ]
  },
  {
   "cell_type": "code",
   "execution_count": 3,
   "metadata": {},
   "outputs": [
    {
     "output_type": "stream",
     "name": "stdout",
     "text": [
      ">/C:/spmf/spmf.jar\n=============  Algorithm - STATISTICS =============\n Total time ~ 655011 ms\n Frequent sequences count : 48\n Max memory (mb):154.16610717773438\n===================================================\n\n\n                                              pattern    sup\n0                                                 [1]  10000\n1                                                 [8]   2214\n2                                                [14]   2253\n3                                                [24]   2275\n4                                                [27]   2197\n5                                                [35]   2019\n6                                                [39]   2083\n7                                                [43]   2412\n8                                              [1, 1]  10000\n9                                              [1, 8]   2177\n10                                             [8, 1]   2059\n11                                            [1, 14]   2199\n12                                            [1, 24]   2214\n13                                            [1, 27]   2174\n14                                            [1, 39]   2045\n15                                            [1, 43]   2311\n16                                          [1, 1, 1]  10000\n17                                          [1, 1, 8]   2134\n18                                         [1, 1, 14]   2135\n19                                         [1, 1, 24]   2140\n20                                         [1, 1, 27]   2131\n21                                         [1, 1, 43]   2246\n22                                          [1, 8, 1]   2022\n23                                          [8, 1, 1]   2006\n24                                       [1, 1, 1, 1]  10000\n25                                       [1, 1, 1, 8]   2058\n26                                      [1, 1, 1, 14]   2069\n27                                      [1, 1, 1, 24]   2061\n28                                      [1, 1, 1, 27]   2066\n29                                      [1, 1, 1, 43]   2174\n30                                    [1, 1, 1, 1, 1]  10000\n31                                   [1, 1, 1, 1, 27]   2005\n32                                   [1, 1, 1, 1, 43]   2101\n33                                 [1, 1, 1, 1, 1, 1]  10000\n34                                [1, 1, 1, 1, 1, 43]   2038\n35                              [1, 1, 1, 1, 1, 1, 1]   9999\n36                           [1, 1, 1, 1, 1, 1, 1, 1]   9999\n37                        [1, 1, 1, 1, 1, 1, 1, 1, 1]   9998\n38                     [1, 1, 1, 1, 1, 1, 1, 1, 1, 1]   9986\n39                  [1, 1, 1, 1, 1, 1, 1, 1, 1, 1, 1]   9943\n40               [1, 1, 1, 1, 1, 1, 1, 1, 1, 1, 1, 1]   9834\n41            [1, 1, 1, 1, 1, 1, 1, 1, 1, 1, 1, 1, 1]   9565\n42         [1, 1, 1, 1, 1, 1, 1, 1, 1, 1, 1, 1, 1, 1]   9059\n43      [1, 1, 1, 1, 1, 1, 1, 1, 1, 1, 1, 1, 1, 1, 1]   8225\n44   [1, 1, 1, 1, 1, 1, 1, 1, 1, 1, 1, 1, 1, 1, 1, 1]   7093\n45  [1, 1, 1, 1, 1, 1, 1, 1, 1, 1, 1, 1, 1, 1, 1, ...   5634\n46  [1, 1, 1, 1, 1, 1, 1, 1, 1, 1, 1, 1, 1, 1, 1, ...   4187\n47  [1, 1, 1, 1, 1, 1, 1, 1, 1, 1, 1, 1, 1, 1, 1, ...   2775\n"
     ]
    }
   ],
   "source": [
    "spmf = Spmf(\"GSP\", input_filename=\"SequenceDB.txt\",\n",
    "            output_filename=\"GSPFrequentSequence.txt\", arguments=[0.2], spmf_bin_location_dir=\"C:/spmf\")\n",
    "spmf.run()\n",
    "print(spmf.to_pandas_dataframe(pickle=True))"
   ]
  },
  {
   "cell_type": "code",
   "execution_count": 7,
   "metadata": {},
   "outputs": [
    {
     "output_type": "stream",
     "name": "stdout",
     "text": [
      ">/C:/spmf/spmf.jar\n=============  Algorithm - STATISTICS =============\n Total time ~ 526 ms\n Frequent sequences count : 48\n Join count : 126\n Max memory (mb):103.501953125\nContent at file SPADEFrequentSequence.txt\n===================================================\n\n\n                                              pattern    sup\n0                                                 [1]  10000\n1                                                 [8]   2214\n2                                                [14]   2253\n3                                                [24]   2275\n4                                                [27]   2197\n5                                                [35]   2019\n6                                                [39]   2083\n7                                                [43]   2412\n8                                             [1, 43]   2311\n9                                             [1, 39]   2045\n10                                            [1, 27]   2174\n11                                            [1, 24]   2214\n12                                            [1, 14]   2199\n13                                             [1, 8]   2177\n14                                             [8, 1]   2058\n15                                          [8, 1, 1]   2005\n16                                             [1, 1]  10000\n17                                          [1, 1, 1]  10000\n18                                          [1, 8, 1]   2021\n19                                          [1, 1, 8]   2133\n20                                         [1, 1, 14]   2135\n21                                         [1, 1, 24]   2139\n22                                         [1, 1, 27]   2131\n23                                         [1, 1, 43]   2245\n24                                      [1, 1, 1, 43]   2173\n25                                      [1, 1, 1, 27]   2065\n26                                      [1, 1, 1, 24]   2061\n27                                      [1, 1, 1, 14]   2067\n28                                       [1, 1, 1, 8]   2058\n29                                       [1, 1, 1, 1]  10000\n30                                    [1, 1, 1, 1, 1]  10000\n31                                   [1, 1, 1, 1, 27]   2003\n32                                   [1, 1, 1, 1, 43]   2096\n33                                [1, 1, 1, 1, 1, 43]   2035\n34                                 [1, 1, 1, 1, 1, 1]  10000\n35                              [1, 1, 1, 1, 1, 1, 1]   9999\n36                           [1, 1, 1, 1, 1, 1, 1, 1]   9999\n37                        [1, 1, 1, 1, 1, 1, 1, 1, 1]   9998\n38                     [1, 1, 1, 1, 1, 1, 1, 1, 1, 1]   9984\n39                  [1, 1, 1, 1, 1, 1, 1, 1, 1, 1, 1]   9935\n40               [1, 1, 1, 1, 1, 1, 1, 1, 1, 1, 1, 1]   9823\n41            [1, 1, 1, 1, 1, 1, 1, 1, 1, 1, 1, 1, 1]   9521\n42         [1, 1, 1, 1, 1, 1, 1, 1, 1, 1, 1, 1, 1, 1]   8983\n43      [1, 1, 1, 1, 1, 1, 1, 1, 1, 1, 1, 1, 1, 1, 1]   8110\n44   [1, 1, 1, 1, 1, 1, 1, 1, 1, 1, 1, 1, 1, 1, 1, 1]   6925\n45  [1, 1, 1, 1, 1, 1, 1, 1, 1, 1, 1, 1, 1, 1, 1, ...   5452\n46  [1, 1, 1, 1, 1, 1, 1, 1, 1, 1, 1, 1, 1, 1, 1, ...   3971\n47  [1, 1, 1, 1, 1, 1, 1, 1, 1, 1, 1, 1, 1, 1, 1, ...   2566\n"
     ]
    }
   ],
   "source": [
    "spmf = Spmf(\"SPADE\", input_filename=\"SequenceDB.txt\", \n",
    "            output_filename=\"SPADEFrequentSequence.txt\", arguments=[0.2], spmf_bin_location_dir=\"C:/spmf\")\n",
    "spmf.run()\n",
    "print(spmf.to_pandas_dataframe(pickle=True))"
   ]
  },
  {
   "cell_type": "code",
   "execution_count": 11,
   "metadata": {},
   "outputs": [
    {
     "output_type": "error",
     "ename": "CalledProcessError",
     "evalue": "Command '['java', '-jar', 'C:/spmf\\\\spmf.jar', 'run', 'PrefixSpan_with_strings', 'prefixSpanSequenceDB.txt', 'FrequentSequence.txt', '0.2']' returned non-zero exit status 1.",
     "traceback": [
      "\u001b[1;31m---------------------------------------------------------------------------\u001b[0m",
      "\u001b[1;31mCalledProcessError\u001b[0m                        Traceback (most recent call last)",
      "\u001b[1;32m<ipython-input-11-29b0dbecbfdd>\u001b[0m in \u001b[0;36m<module>\u001b[1;34m\u001b[0m\n\u001b[0;32m      1\u001b[0m spmf = Spmf(\"PrefixSpan_with_strings\", input_filename=\"prefixSpanSequenceDB.txt\", \n\u001b[0;32m      2\u001b[0m             output_filename=\"FrequentSequence.txt\", arguments=[0.2], spmf_bin_location_dir=\"C:/spmf\")\n\u001b[1;32m----> 3\u001b[1;33m \u001b[0mspmf\u001b[0m\u001b[1;33m.\u001b[0m\u001b[0mrun\u001b[0m\u001b[1;33m(\u001b[0m\u001b[1;33m)\u001b[0m\u001b[1;33m\u001b[0m\u001b[1;33m\u001b[0m\u001b[0m\n\u001b[0m\u001b[0;32m      4\u001b[0m \u001b[0mprint\u001b[0m\u001b[1;33m(\u001b[0m\u001b[0mspmf\u001b[0m\u001b[1;33m.\u001b[0m\u001b[0mto_pandas_dataframe\u001b[0m\u001b[1;33m(\u001b[0m\u001b[0mpickle\u001b[0m\u001b[1;33m=\u001b[0m\u001b[1;32mTrue\u001b[0m\u001b[1;33m)\u001b[0m\u001b[1;33m)\u001b[0m\u001b[1;33m\u001b[0m\u001b[1;33m\u001b[0m\u001b[0m\n",
      "\u001b[1;32mC:\\Python39\\lib\\site-packages\\spmf\\__init__.py\u001b[0m in \u001b[0;36mrun\u001b[1;34m(self)\u001b[0m\n\u001b[0;32m    100\u001b[0m         \u001b[0msubprocess_arguments\u001b[0m\u001b[1;33m.\u001b[0m\u001b[0mextend\u001b[0m\u001b[1;33m(\u001b[0m\u001b[0mself\u001b[0m\u001b[1;33m.\u001b[0m\u001b[0marguments_\u001b[0m\u001b[1;33m)\u001b[0m\u001b[1;33m\u001b[0m\u001b[1;33m\u001b[0m\u001b[0m\n\u001b[0;32m    101\u001b[0m \u001b[1;33m\u001b[0m\u001b[0m\n\u001b[1;32m--> 102\u001b[1;33m         \u001b[0mproc\u001b[0m \u001b[1;33m=\u001b[0m \u001b[0msubprocess\u001b[0m\u001b[1;33m.\u001b[0m\u001b[0mcheck_output\u001b[0m\u001b[1;33m(\u001b[0m\u001b[0msubprocess_arguments\u001b[0m\u001b[1;33m)\u001b[0m\u001b[1;33m\u001b[0m\u001b[1;33m\u001b[0m\u001b[0m\n\u001b[0m\u001b[0;32m    103\u001b[0m         \u001b[0mproc_output\u001b[0m \u001b[1;33m=\u001b[0m \u001b[0mproc\u001b[0m\u001b[1;33m.\u001b[0m\u001b[0mdecode\u001b[0m\u001b[1;33m(\u001b[0m\u001b[1;33m)\u001b[0m\u001b[1;33m\u001b[0m\u001b[1;33m\u001b[0m\u001b[0m\n\u001b[0;32m    104\u001b[0m         \u001b[0mprint\u001b[0m\u001b[1;33m(\u001b[0m\u001b[0mproc_output\u001b[0m\u001b[1;33m)\u001b[0m\u001b[1;33m\u001b[0m\u001b[1;33m\u001b[0m\u001b[0m\n",
      "\u001b[1;32mC:\\Python39\\lib\\subprocess.py\u001b[0m in \u001b[0;36mcheck_output\u001b[1;34m(timeout, *popenargs, **kwargs)\u001b[0m\n\u001b[0;32m    422\u001b[0m         \u001b[0mkwargs\u001b[0m\u001b[1;33m[\u001b[0m\u001b[1;34m'input'\u001b[0m\u001b[1;33m]\u001b[0m \u001b[1;33m=\u001b[0m \u001b[0mempty\u001b[0m\u001b[1;33m\u001b[0m\u001b[1;33m\u001b[0m\u001b[0m\n\u001b[0;32m    423\u001b[0m \u001b[1;33m\u001b[0m\u001b[0m\n\u001b[1;32m--> 424\u001b[1;33m     return run(*popenargs, stdout=PIPE, timeout=timeout, check=True,\n\u001b[0m\u001b[0;32m    425\u001b[0m                **kwargs).stdout\n\u001b[0;32m    426\u001b[0m \u001b[1;33m\u001b[0m\u001b[0m\n",
      "\u001b[1;32mC:\\Python39\\lib\\subprocess.py\u001b[0m in \u001b[0;36mrun\u001b[1;34m(input, capture_output, timeout, check, *popenargs, **kwargs)\u001b[0m\n\u001b[0;32m    526\u001b[0m         \u001b[0mretcode\u001b[0m \u001b[1;33m=\u001b[0m \u001b[0mprocess\u001b[0m\u001b[1;33m.\u001b[0m\u001b[0mpoll\u001b[0m\u001b[1;33m(\u001b[0m\u001b[1;33m)\u001b[0m\u001b[1;33m\u001b[0m\u001b[1;33m\u001b[0m\u001b[0m\n\u001b[0;32m    527\u001b[0m         \u001b[1;32mif\u001b[0m \u001b[0mcheck\u001b[0m \u001b[1;32mand\u001b[0m \u001b[0mretcode\u001b[0m\u001b[1;33m:\u001b[0m\u001b[1;33m\u001b[0m\u001b[1;33m\u001b[0m\u001b[0m\n\u001b[1;32m--> 528\u001b[1;33m             raise CalledProcessError(retcode, process.args,\n\u001b[0m\u001b[0;32m    529\u001b[0m                                      output=stdout, stderr=stderr)\n\u001b[0;32m    530\u001b[0m     \u001b[1;32mreturn\u001b[0m \u001b[0mCompletedProcess\u001b[0m\u001b[1;33m(\u001b[0m\u001b[0mprocess\u001b[0m\u001b[1;33m.\u001b[0m\u001b[0margs\u001b[0m\u001b[1;33m,\u001b[0m \u001b[0mretcode\u001b[0m\u001b[1;33m,\u001b[0m \u001b[0mstdout\u001b[0m\u001b[1;33m,\u001b[0m \u001b[0mstderr\u001b[0m\u001b[1;33m)\u001b[0m\u001b[1;33m\u001b[0m\u001b[1;33m\u001b[0m\u001b[0m\n",
      "\u001b[1;31mCalledProcessError\u001b[0m: Command '['java', '-jar', 'C:/spmf\\\\spmf.jar', 'run', 'PrefixSpan_with_strings', 'prefixSpanSequenceDB.txt', 'FrequentSequence.txt', '0.2']' returned non-zero exit status 1."
     ]
    }
   ],
   "source": [
    "spmf = Spmf(\"PrefixSpan_with_strings\", input_filename=\"prefixSpanSequenceDB.txt\", \n",
    "            output_filename=\"FrequentSequence.txt\", arguments=[0.2], spmf_bin_location_dir=\"C:/spmf\")\n",
    "spmf.run()\n",
    "print(spmf.to_pandas_dataframe(pickle=True))"
   ]
  },
  {
   "cell_type": "code",
   "execution_count": 6,
   "metadata": {},
   "outputs": [
    {
     "output_type": "execute_result",
     "data": {
      "text/plain": [
       "10.91685"
      ]
     },
     "metadata": {},
     "execution_count": 6
    }
   ],
   "source": [
    "655011/1000/60"
   ]
  },
  {
   "cell_type": "code",
   "execution_count": null,
   "metadata": {},
   "outputs": [],
   "source": []
  }
 ]
}