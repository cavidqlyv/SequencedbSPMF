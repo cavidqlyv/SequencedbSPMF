{
 "metadata": {
  "language_info": {
   "codemirror_mode": {
    "name": "ipython",
    "version": 3
   },
   "file_extension": ".py",
   "mimetype": "text/x-python",
   "name": "python",
   "nbconvert_exporter": "python",
   "pygments_lexer": "ipython3",
   "version": "3.9.2-final"
  },
  "orig_nbformat": 2,
  "kernelspec": {
   "name": "python392jvsc74a57bd063fd5069d213b44bf678585dea6b12cceca9941eaf7f819626cde1f2670de90d",
   "display_name": "Python 3.9.2 64-bit"
  }
 },
 "nbformat": 4,
 "nbformat_minor": 2,
 "cells": [
  {
   "cell_type": "code",
   "execution_count": 1,
   "metadata": {},
   "outputs": [],
   "source": [
    "from spmf import Spmf"
   ]
  },
  {
   "cell_type": "code",
   "execution_count": 4,
   "metadata": {},
   "outputs": [],
   "source": [
    "spmf = Spmf(\"GSP\", input_filename=\"SequenceDB.txt\",\n",
    "            output_filename=\"GSPFrequentSequence.txt\", arguments=[0.09], spmf_bin_locsation_dir=\"C:/spmf\")\n",
    "spmf.run()\n",
    "print(spmf.to_pandas_dataframe(pickle=True))"
   ]
  },
  {
   "cell_type": "code",
   "execution_count": 3,
   "metadata": {},
   "outputs": [
    {
     "output_type": "stream",
     "name": "stdout",
     "text": [
      ">/C:/spmf/spmf.jar\n=============  Algorithm - STATISTICS =============\n Total time ~ 49931 ms\n Frequent sequences count : 1666\n Max memory (mb):97.60047149658203\nContent at file ColSpanFrequentSequence.txt\n\n===================================================\n\n\n                     pattern    sup\n0         [1, 1, 1, 1, 1, 1]  10000\n1                    [1, 31]   1392\n2                 [1, 31, 1]   1250\n3              [1, 31, 1, 1]   1192\n4           [1, 31, 1, 1, 1]   1118\n...                      ...    ...\n1661              [50, 1, 1]   1190\n1662           [50, 1, 1, 1]   1135\n1663        [50, 1, 1, 1, 1]   1087\n1664     [50, 1, 1, 1, 1, 1]   1026\n1665  [50, 1, 1, 1, 1, 1, 1]    941\n\n[1666 rows x 2 columns]\n"
     ]
    }
   ],
   "source": [
    "spmf = Spmf(\"CloSpan\", input_filename=\"SequenceDB.txt\",\n",
    "            output_filename=\"ColSpanFrequentSequence.txt\", arguments=[0.09], spmf_bin_location_dir=\"C:/spmf\")\n",
    "spmf.run()\n",
    "print(spmf.to_pandas_dataframe(pickle=True))"
   ]
  },
  {
   "cell_type": "code",
   "execution_count": 5,
   "metadata": {},
   "outputs": [
    {
     "output_type": "stream",
     "name": "stdout",
     "text": [
      ">/C:/spmf/spmf.jar\n=============  Algorithm - STATISTICS =============\n Total time ~ 2038 ms\n Frequent sequences count : 1642\n Join count : 2758\n Max memory (mb):319.9694366455078\nContent at file SPADEFrequentSequence.txt\n===================================================\n\n\n                     pattern    sup\n0                        [1]  10000\n1                        [2]   1403\n2                        [3]   1601\n3                        [4]   1754\n4                        [6]   1400\n...                      ...    ...\n1637     [1, 49, 1, 1, 1, 1]    953\n1638           [1, 50, 1, 1]   1142\n1639        [1, 50, 1, 1, 1]   1087\n1640     [1, 50, 1, 1, 1, 1]   1036\n1641  [1, 50, 1, 1, 1, 1, 1]    971\n\n[1642 rows x 2 columns]\n"
     ]
    }
   ],
   "source": [
    "spmf = Spmf(\"SPADE\", input_filename=\"SequenceDB.txt\", \n",
    "            output_filename=\"SPADEFrequentSequence.txt\", arguments=[0.09], spmf_bin_location_dir=\"C:/spmf\")\n",
    "spmf.run()\n",
    "print(spmf.to_pandas_dataframe(pickle=True))"
   ]
  },
  {
   "cell_type": "code",
   "execution_count": 4,
   "metadata": {},
   "outputs": [
    {
     "output_type": "stream",
     "name": "stdout",
     "text": [
      ">/C:/spmf/spmf.jar\n=============  PREFIXSPAN 0.99-2016 - STATISTICS =============\n Total time ~ 1933 ms\n Frequent sequences count : 1672\n Max memory (mb) : 91.05047607421875\n minsup = 900 sequences.\n Pattern count : 1672\n===================================================\n\n\n                     pattern    sup\n0                        [1]  10000\n1                     [1, 1]  10000\n2                  [1, 1, 1]  10000\n3               [1, 1, 1, 1]  10000\n4            [1, 1, 1, 1, 1]  10000\n...                      ...    ...\n1667              [50, 1, 1]   1190\n1668           [50, 1, 1, 1]   1135\n1669        [50, 1, 1, 1, 1]   1087\n1670     [50, 1, 1, 1, 1, 1]   1026\n1671  [50, 1, 1, 1, 1, 1, 1]    941\n\n[1672 rows x 2 columns]\n"
     ]
    }
   ],
   "source": [
    "# database without timeStamp\n",
    "spmf = Spmf(\"PrefixSpan\", input_filename=\"NOTimeStampSequenceDB.txt\", \n",
    "            output_filename=\"PrefixSpanFrequentSequence.txt\", arguments=[0.09], spmf_bin_location_dir=\"C:/spmf\")\n",
    "spmf.run()\n",
    "print(spmf.to_pandas_dataframe(pickle=True))"
   ]
  },
  {
   "cell_type": "code",
   "execution_count": 6,
   "metadata": {},
   "outputs": [
    {
     "output_type": "execute_result",
     "data": {
      "text/plain": [
       "10.91685"
      ]
     },
     "metadata": {},
     "execution_count": 6
    }
   ],
   "source": [
    "655011/1000/60"
   ]
  },
  {
   "cell_type": "code",
   "execution_count": null,
   "metadata": {},
   "outputs": [],
   "source": []
  }
 ]
}