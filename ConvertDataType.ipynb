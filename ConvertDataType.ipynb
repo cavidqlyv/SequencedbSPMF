{
 "metadata": {
  "language_info": {
   "codemirror_mode": {
    "name": "ipython",
    "version": 3
   },
   "file_extension": ".py",
   "mimetype": "text/x-python",
   "name": "python",
   "nbconvert_exporter": "python",
   "pygments_lexer": "ipython3",
   "version": "3.9.2-final"
  },
  "orig_nbformat": 2,
  "kernelspec": {
   "name": "python392jvsc74a57bd063fd5069d213b44bf678585dea6b12cceca9941eaf7f819626cde1f2670de90d",
   "display_name": "Python 3.9.2 64-bit"
  }
 },
 "nbformat": 4,
 "nbformat_minor": 2,
 "cells": [
  {
   "cell_type": "code",
   "execution_count": 11,
   "metadata": {},
   "outputs": [],
   "source": [
    "import numpy as np\n",
    "from pprint import pprint"
   ]
  },
  {
   "cell_type": "code",
   "execution_count": 12,
   "metadata": {},
   "outputs": [],
   "source": [
    "outputFile=\"SequenceDB.txt\"\n",
    "filename =\"sequences.csv\""
   ]
  },
  {
   "cell_type": "code",
   "execution_count": 13,
   "metadata": {},
   "outputs": [],
   "source": [
    "import csv\n",
    "\n",
    "SequenceDatabase=[]\n",
    "\n",
    "with open(filename, 'r') as data:\n",
    "    for lines in csv.reader(data):\n",
    "      for line in lines:   \n",
    "        line = line.replace(\" \", \"\")\n",
    "        linearr=line.split('(')\n",
    "     \n",
    "        betterLine = map(lambda x: x.replace(\")\",\"\"), linearr)\n",
    "        sequence=list(betterLine)\n",
    "        sequence.pop(0)\n",
    "        sequence[len(sequence)-1]=sequence[len(sequence)-1].replace(\";0\",\"\")\n",
    "        sequence[len(sequence)-1]=sequence[len(sequence)-1].replace(\";1\",\"\")\n",
    "        SequenceDatabase.append(sequence)\n"
   ]
  },
  {
   "cell_type": "code",
   "execution_count": 16,
   "metadata": {},
   "outputs": [],
   "source": [
    "#for general\n",
    "with open(outputFile, 'w') as new_file:\n",
    "    for sequenceRow in SequenceDatabase:\n",
    "        for sequence in sequenceRow:\n",
    "            TS,seq=sequence.split(\",\")\n",
    "            new_file.write(\"<\"+str(TS)+\"> \"+str(int(seq)+2)+\" -1 \")\n",
    "        new_file.write(\"-2 \\n\")"
   ]
  },
  {
   "cell_type": "code",
   "execution_count": 14,
   "metadata": {},
   "outputs": [],
   "source": [
    "#for prefixspan without timestamp\n",
    "with open(\"NOTimeStamp\"+outputFile, 'w') as new_file:\n",
    "    for sequenceRow in SequenceDatabase:\n",
    "        for sequence in sequenceRow:\n",
    "            TS,seq=sequence.split(\",\")\n",
    "            new_file.write(str(int(seq)+2)+\" -1 \")\n",
    "        new_file.write(\"-2 \\n\")"
   ]
  },
  {
   "cell_type": "code",
   "execution_count": null,
   "metadata": {},
   "outputs": [],
   "source": []
  }
 ]
}