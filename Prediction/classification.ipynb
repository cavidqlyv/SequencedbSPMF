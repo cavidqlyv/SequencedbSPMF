{
 "metadata": {
  "language_info": {
   "codemirror_mode": {
    "name": "ipython",
    "version": 3
   },
   "file_extension": ".py",
   "mimetype": "text/x-python",
   "name": "python",
   "nbconvert_exporter": "python",
   "pygments_lexer": "ipython3",
   "version": "3.9.2-final"
  },
  "orig_nbformat": 2,
  "kernelspec": {
   "name": "python392jvsc74a57bd063fd5069d213b44bf678585dea6b12cceca9941eaf7f819626cde1f2670de90d",
   "display_name": "Python 3.9.2 64-bit"
  }
 },
 "nbformat": 4,
 "nbformat_minor": 2,
 "cells": [
  {
   "cell_type": "code",
   "execution_count": 12,
   "metadata": {},
   "outputs": [],
   "source": [
    "import numpy as np\n",
    "from pprint import pprint \n",
    "from sklearn import datasets\n",
    "from spmf import Spmf"
   ]
  },
  {
   "cell_type": "code",
   "execution_count": 13,
   "metadata": {},
   "outputs": [
    {
     "output_type": "stream",
     "name": "stdout",
     "text": [
      ">/C:/spmf/spmf.jar\n",
      "=============  Algorithm - STATISTICS =============\n",
      " Total time ~ 3745 ms\n",
      " Frequent sequences count : 1642\n",
      " Join count : 2758\n",
      " Max memory (mb):335.0420455932617\n",
      "Content at file SPADEFrequentSequenceWSeqID.txt\n",
      "===================================================\n",
      "\n",
      "\n",
      "                     pattern    sup\n",
      "0                        [1]  10000\n",
      "1                        [2]   1403\n",
      "2                        [3]   1601\n",
      "3                        [4]   1754\n",
      "4                        [6]   1400\n",
      "...                      ...    ...\n",
      "1637     [1, 49, 1, 1, 1, 1]    953\n",
      "1638           [1, 50, 1, 1]   1142\n",
      "1639        [1, 50, 1, 1, 1]   1087\n",
      "1640     [1, 50, 1, 1, 1, 1]   1036\n",
      "1641  [1, 50, 1, 1, 1, 1, 1]    971\n",
      "\n",
      "[1642 rows x 2 columns]\n"
     ]
    }
   ],
   "source": [
    "spmf = Spmf(\"SPADE\", input_filename=\"../data/SequenceDB.txt\", \n",
    "            output_filename=\"SPADEFrequentSequenceWSeqID.txt\", arguments=[0.09,\"true\"], spmf_bin_location_dir=\"C:/spmf\")\n",
    "spmf.run()\n",
    "print(spmf.to_pandas_dataframe(pickle=True))"
   ]
  },
  {
   "cell_type": "code",
   "execution_count": null,
   "metadata": {},
   "outputs": [],
   "source": [
    "#create database file for using\n",
    "inputfn=\"SPADEFrequentSequenceWSeqID\"\n",
    "outputfn=\"dataset\""
   ]
  },
  {
   "source": [
    "# Features(Frequent itemsets ~= minsup)  | Labels (1,0)\n",
    "\n",
    "                    Pattern\n",
    "Seqid             Freq items           failure\n",
    "1   |              1; 1 3 7; 2         |  0\n",
    "2   |              X  Y                |  0\n",
    "3   |              X  Z                |  0\n",
    "9999|              Y  X                |  1\n",
    "33  |                1                 |  0\n",
    "9555|                1                 |  1\n",
    "\n",
    "\n",
    "Freq item                1       0                                  \n",
    "1               ---      1     0.3\n",
    "1               ---      0\n",
    "1               ---      1\n",
    "1               ---      1 \n",
    "\n",
    "\n",
    "9               ---     \n",
    "1 3 7           ---     0.7     0.3\n",
    "2               ---     \n",
    "\n",
    "\n",
    "\n",
    "\n",
    "seq  1; 1 3 7; 2     "
   ],
   "cell_type": "code",
   "metadata": {},
   "execution_count": null,
   "outputs": []
  },
  {
   "cell_type": "code",
   "execution_count": null,
   "metadata": {},
   "outputs": [],
   "source": [
    "import csv\n",
    "\n",
    "SequenceDatabase=[]\n",
    "\n",
    "\n",
    "with open(inputfn, 'r') as data:\n",
    "    for lines in csv.reader(data):\n",
    "      for line in lines:   \n",
    "        linearr=line.split('#')\n",
    "\n",
    "\n",
    "        betterLine = map(lambda x: x.replace(\")\",\"\"), linearr)\n",
    "        sequence=list(betterLine)\n",
    "        SequenceDatabase.append(sequence)\n",
    "\n",
    "\n",
    "with open(outputfn, 'w') as data:\n",
    "    for lines in csv.reader(data):\n",
    "      for line in lines:   \n",
    "        line = line.replace(\" \", \"\")\n",
    "        linearr=line.split('(')\n",
    "     \n",
    "        betterLine = map(lambda x: x.replace(\")\",\"\"), linearr)\n",
    "        sequence=list(betterLine)\n",
    "        sequence.pop(0)\n",
    "        sequence[len(sequence)-1]=sequence[len(sequence)-1].replace(\";0\",\"\")\n",
    "        sequence[len(sequence)-1]=sequence[len(sequence)-1].replace(\";1\",\"\")\n",
    "        SequenceDatabase.append(sequence)\n"
   ]
  },
  {
   "cell_type": "code",
   "execution_count": null,
   "metadata": {},
   "outputs": [],
   "source": [
    "1 -1 #SUP: 10000 #SID: 0 1 2 3 4 5 6 7 8 9 10 11 12 "
   ]
  }
 ]
}